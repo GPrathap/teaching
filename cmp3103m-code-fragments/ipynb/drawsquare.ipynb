{
 "cells": [
  {
   "cell_type": "code",
   "execution_count": 1,
   "id": "6971f519-1777-43b3-a2e1-53fe326925e0",
   "metadata": {},
   "outputs": [],
   "source": [
    "import rclpy"
   ]
  },
  {
   "cell_type": "code",
   "execution_count": 6,
   "id": "c6af3b44-a542-4d5d-a5f6-87b2e0588293",
   "metadata": {},
   "outputs": [],
   "source": []
  },
  {
   "cell_type": "code",
   "execution_count": 3,
   "id": "2d2df942-dc3e-49d7-98ae-c55869d15936",
   "metadata": {},
   "outputs": [],
   "source": [
    "from rclpy.node import Node\n",
    "\n",
    "from geometry_msgs.msg import Twist\n",
    "from math import radians\n",
    "\n",
    "class DrawASquare(Node):\n",
    "    def __init__(self):\n",
    "        super().__init__('drawasquare')        \n",
    "        self.cmd_vel_pub = self.create_publisher(Twist, '/cmd_vel', 10)\n",
    "        timer_period = 0.1  # seconds\n",
    "        self.timer = self.create_timer(timer_period, self.timer_callback)\n",
    "        self.count = 0\n",
    "        self.loops = 30 # 30 loops at 10 Hz, takes around 3s\n",
    "\n",
    "    \t# create two different Twist() variables.  One for moving forward.  One for turning 45 degrees.\n",
    "\n",
    "        # let's go forward at 0.2 m/s\n",
    "        self.move_cmd = Twist()\n",
    "        self.move_cmd.linear.x = 1.0/3.0\n",
    "\t    # by default angular.z is 0 so setting this isn't required\n",
    "\n",
    "        #let's turn at 45 deg/s\n",
    "        self.turn_cmd = Twist()\n",
    "        self.turn_cmd.linear.x = 0.0\n",
    "        self.turn_cmd.angular.z = radians(90/3); #30 deg/s in radians/s\n",
    "\n",
    "    def timer_callback(self):\n",
    "        #two keep drawing squares.  Go forward for 2 seconds (10 x 5 HZ) then turn for 2 second\n",
    "\t    # go forward 1 m (5 seconds * 0.2 m / seconds)\n",
    "        if (self.count // self.loops) % 2 == 0: # Even number\n",
    "            self.get_logger().info(\"Going Straight\")\n",
    "            self.cmd_vel_pub.publish(self.move_cmd)\n",
    "        else:\n",
    "            self.get_logger().info(\"Turning\")\n",
    "            self.cmd_vel_pub.publish(self.turn_cmd)\n",
    "        self.count += 1\n",
    "        self.get_logger().info('count: %d' % self.count)\n",
    " "
   ]
  },
  {
   "cell_type": "code",
   "execution_count": 9,
   "id": "78380814-0781-4cf1-9043-34fa926f5e03",
   "metadata": {},
   "outputs": [
    {
     "name": "stderr",
     "output_type": "stream",
     "text": [
      "[INFO] [1674649632.166628731] [drawasquare]: Going Straight\n",
      "[INFO] [1674649632.175285284] [drawasquare]: count: 1\n",
      "[INFO] [1674649632.265176491] [drawasquare]: Going Straight\n",
      "[INFO] [1674649632.273285501] [drawasquare]: count: 2\n",
      "[INFO] [1674649632.365599272] [drawasquare]: Going Straight\n",
      "[INFO] [1674649632.374775502] [drawasquare]: count: 3\n",
      "[INFO] [1674649632.465756342] [drawasquare]: Going Straight\n",
      "[INFO] [1674649632.474186725] [drawasquare]: count: 4\n",
      "[INFO] [1674649632.564127395] [drawasquare]: Going Straight\n",
      "[INFO] [1674649632.572915826] [drawasquare]: count: 5\n",
      "[INFO] [1674649632.665608491] [drawasquare]: Going Straight\n",
      "[INFO] [1674649632.675331337] [drawasquare]: count: 6\n",
      "[INFO] [1674649632.765231898] [drawasquare]: Going Straight\n",
      "[INFO] [1674649632.774421576] [drawasquare]: count: 7\n",
      "[INFO] [1674649632.865562006] [drawasquare]: Going Straight\n",
      "[INFO] [1674649632.874910928] [drawasquare]: count: 8\n",
      "[INFO] [1674649632.965122016] [drawasquare]: Going Straight\n",
      "[INFO] [1674649632.973792976] [drawasquare]: count: 9\n",
      "[INFO] [1674649633.064742756] [drawasquare]: Going Straight\n",
      "[INFO] [1674649633.074209065] [drawasquare]: count: 10\n",
      "[INFO] [1674649633.165400028] [drawasquare]: Going Straight\n",
      "[INFO] [1674649633.174684643] [drawasquare]: count: 11\n",
      "[INFO] [1674649633.264918564] [drawasquare]: Going Straight\n",
      "[INFO] [1674649633.272685898] [drawasquare]: count: 12\n",
      "[INFO] [1674649633.365199887] [drawasquare]: Going Straight\n",
      "[INFO] [1674649633.374318305] [drawasquare]: count: 13\n",
      "[INFO] [1674649633.465903379] [drawasquare]: Going Straight\n",
      "[INFO] [1674649633.474081141] [drawasquare]: count: 14\n",
      "[INFO] [1674649633.565465052] [drawasquare]: Going Straight\n",
      "[INFO] [1674649633.574096970] [drawasquare]: count: 15\n",
      "[INFO] [1674649633.666538619] [drawasquare]: Going Straight\n",
      "[INFO] [1674649633.675316441] [drawasquare]: count: 16\n",
      "[INFO] [1674649633.765127548] [drawasquare]: Going Straight\n",
      "[INFO] [1674649633.774357375] [drawasquare]: count: 17\n",
      "[INFO] [1674649633.865498805] [drawasquare]: Going Straight\n",
      "[INFO] [1674649633.875218705] [drawasquare]: count: 18\n",
      "[INFO] [1674649633.965731044] [drawasquare]: Going Straight\n",
      "[INFO] [1674649633.974633804] [drawasquare]: count: 19\n",
      "[INFO] [1674649634.065089144] [drawasquare]: Going Straight\n",
      "[INFO] [1674649634.074728759] [drawasquare]: count: 20\n",
      "[INFO] [1674649634.165765140] [drawasquare]: Going Straight\n",
      "[INFO] [1674649634.175905862] [drawasquare]: count: 21\n",
      "[INFO] [1674649634.264559891] [drawasquare]: Going Straight\n",
      "[INFO] [1674649634.273600348] [drawasquare]: count: 22\n",
      "[INFO] [1674649634.364809107] [drawasquare]: Going Straight\n",
      "[INFO] [1674649634.374916892] [drawasquare]: count: 23\n"
     ]
    },
    {
     "ename": "KeyboardInterrupt",
     "evalue": "",
     "output_type": "error",
     "traceback": [
      "\u001b[0;31m---------------------------------------------------------------------------\u001b[0m",
      "\u001b[0;31mKeyboardInterrupt\u001b[0m                         Traceback (most recent call last)",
      "Cell \u001b[0;32mIn[9], line 4\u001b[0m\n\u001b[1;32m      2\u001b[0m     rclpy\u001b[38;5;241m.\u001b[39minit()\n\u001b[1;32m      3\u001b[0m     node \u001b[38;5;241m=\u001b[39m DrawASquare()\n\u001b[0;32m----> 4\u001b[0m     \u001b[43mrclpy\u001b[49m\u001b[38;5;241;43m.\u001b[39;49m\u001b[43mspin\u001b[49m\u001b[43m(\u001b[49m\u001b[43mnode\u001b[49m\u001b[43m)\u001b[49m\n\u001b[1;32m      5\u001b[0m \u001b[38;5;28;01mfinally\u001b[39;00m:\n\u001b[1;32m      6\u001b[0m     node\u001b[38;5;241m.\u001b[39mdestroy_node()\n",
      "File \u001b[0;32m/opt/ros/humble/local/lib/python3.10/dist-packages/rclpy/__init__.py:222\u001b[0m, in \u001b[0;36mspin\u001b[0;34m(node, executor)\u001b[0m\n\u001b[1;32m    220\u001b[0m     executor\u001b[38;5;241m.\u001b[39madd_node(node)\n\u001b[1;32m    221\u001b[0m     \u001b[38;5;28;01mwhile\u001b[39;00m executor\u001b[38;5;241m.\u001b[39mcontext\u001b[38;5;241m.\u001b[39mok():\n\u001b[0;32m--> 222\u001b[0m         \u001b[43mexecutor\u001b[49m\u001b[38;5;241;43m.\u001b[39;49m\u001b[43mspin_once\u001b[49m\u001b[43m(\u001b[49m\u001b[43m)\u001b[49m\n\u001b[1;32m    223\u001b[0m \u001b[38;5;28;01mfinally\u001b[39;00m:\n\u001b[1;32m    224\u001b[0m     executor\u001b[38;5;241m.\u001b[39mremove_node(node)\n",
      "File \u001b[0;32m/opt/ros/humble/local/lib/python3.10/dist-packages/rclpy/executors.py:705\u001b[0m, in \u001b[0;36mSingleThreadedExecutor.spin_once\u001b[0;34m(self, timeout_sec)\u001b[0m\n\u001b[1;32m    703\u001b[0m \u001b[38;5;28;01mdef\u001b[39;00m \u001b[38;5;21mspin_once\u001b[39m(\u001b[38;5;28mself\u001b[39m, timeout_sec: \u001b[38;5;28mfloat\u001b[39m \u001b[38;5;241m=\u001b[39m \u001b[38;5;28;01mNone\u001b[39;00m) \u001b[38;5;241m-\u001b[39m\u001b[38;5;241m>\u001b[39m \u001b[38;5;28;01mNone\u001b[39;00m:\n\u001b[1;32m    704\u001b[0m     \u001b[38;5;28;01mtry\u001b[39;00m:\n\u001b[0;32m--> 705\u001b[0m         handler, entity, node \u001b[38;5;241m=\u001b[39m \u001b[38;5;28;43mself\u001b[39;49m\u001b[38;5;241;43m.\u001b[39;49m\u001b[43mwait_for_ready_callbacks\u001b[49m\u001b[43m(\u001b[49m\u001b[43mtimeout_sec\u001b[49m\u001b[38;5;241;43m=\u001b[39;49m\u001b[43mtimeout_sec\u001b[49m\u001b[43m)\u001b[49m\n\u001b[1;32m    706\u001b[0m     \u001b[38;5;28;01mexcept\u001b[39;00m ShutdownException:\n\u001b[1;32m    707\u001b[0m         \u001b[38;5;28;01mpass\u001b[39;00m\n",
      "File \u001b[0;32m/opt/ros/humble/local/lib/python3.10/dist-packages/rclpy/executors.py:691\u001b[0m, in \u001b[0;36mExecutor.wait_for_ready_callbacks\u001b[0;34m(self, *args, **kwargs)\u001b[0m\n\u001b[1;32m    688\u001b[0m     \u001b[38;5;28mself\u001b[39m\u001b[38;5;241m.\u001b[39m_cb_iter \u001b[38;5;241m=\u001b[39m \u001b[38;5;28mself\u001b[39m\u001b[38;5;241m.\u001b[39m_wait_for_ready_callbacks(\u001b[38;5;241m*\u001b[39margs, \u001b[38;5;241m*\u001b[39m\u001b[38;5;241m*\u001b[39mkwargs)\n\u001b[1;32m    690\u001b[0m \u001b[38;5;28;01mtry\u001b[39;00m:\n\u001b[0;32m--> 691\u001b[0m     \u001b[38;5;28;01mreturn\u001b[39;00m \u001b[38;5;28;43mnext\u001b[39;49m\u001b[43m(\u001b[49m\u001b[38;5;28;43mself\u001b[39;49m\u001b[38;5;241;43m.\u001b[39;49m\u001b[43m_cb_iter\u001b[49m\u001b[43m)\u001b[49m\n\u001b[1;32m    692\u001b[0m \u001b[38;5;28;01mexcept\u001b[39;00m \u001b[38;5;167;01mStopIteration\u001b[39;00m:\n\u001b[1;32m    693\u001b[0m     \u001b[38;5;66;03m# Generator ran out of work\u001b[39;00m\n\u001b[1;32m    694\u001b[0m     \u001b[38;5;28mself\u001b[39m\u001b[38;5;241m.\u001b[39m_cb_iter \u001b[38;5;241m=\u001b[39m \u001b[38;5;28;01mNone\u001b[39;00m\n",
      "File \u001b[0;32m/opt/ros/humble/local/lib/python3.10/dist-packages/rclpy/executors.py:588\u001b[0m, in \u001b[0;36mExecutor._wait_for_ready_callbacks\u001b[0;34m(self, timeout_sec, nodes, condition)\u001b[0m\n\u001b[1;32m    585\u001b[0m     waitable\u001b[38;5;241m.\u001b[39madd_to_wait_set(wait_set)\n\u001b[1;32m    587\u001b[0m \u001b[38;5;66;03m# Wait for something to become ready\u001b[39;00m\n\u001b[0;32m--> 588\u001b[0m \u001b[43mwait_set\u001b[49m\u001b[38;5;241;43m.\u001b[39;49m\u001b[43mwait\u001b[49m\u001b[43m(\u001b[49m\u001b[43mtimeout_nsec\u001b[49m\u001b[43m)\u001b[49m\n\u001b[1;32m    589\u001b[0m \u001b[38;5;28;01mif\u001b[39;00m \u001b[38;5;28mself\u001b[39m\u001b[38;5;241m.\u001b[39m_is_shutdown:\n\u001b[1;32m    590\u001b[0m     \u001b[38;5;28;01mraise\u001b[39;00m ShutdownException()\n",
      "\u001b[0;31mKeyboardInterrupt\u001b[0m: "
     ]
    }
   ],
   "source": [
    "try:\n",
    "    rclpy.init()\n",
    "    node = DrawASquare()\n",
    "    rclpy.spin(node)\n",
    "finally:\n",
    "    node.destroy_node()\n",
    "    rclpy.shutdown()\n"
   ]
  },
  {
   "cell_type": "code",
   "execution_count": null,
   "id": "90e26d0a-91b0-41fe-967b-7487451594e5",
   "metadata": {},
   "outputs": [],
   "source": []
  }
 ],
 "metadata": {
  "kernelspec": {
   "display_name": "Python 3 (ipykernel)",
   "language": "python",
   "name": "python3"
  },
  "language_info": {
   "codemirror_mode": {
    "name": "ipython",
    "version": 3
   },
   "file_extension": ".py",
   "mimetype": "text/x-python",
   "name": "python",
   "nbconvert_exporter": "python",
   "pygments_lexer": "ipython3",
   "version": "3.10.6"
  }
 },
 "nbformat": 4,
 "nbformat_minor": 5
}
